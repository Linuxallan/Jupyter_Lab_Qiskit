{
 "cells": [
  {
   "cell_type": "code",
   "execution_count": 2,
   "id": "ee692d4e-cd00-469e-8189-289b884d67d8",
   "metadata": {},
   "outputs": [],
   "source": [
    "from qiskit import QuantumCircuit, execute, Aer, IBMQ\n",
    "from qiskit.compiler import transpile, assemble\n",
    "from qiskit.tools.jupyter import *\n",
    "from qiskit.visualization import *"
   ]
  },
  {
   "cell_type": "code",
   "execution_count": 4,
   "id": "2dae5f78-8802-4f8e-a1bb-bf6276b0bd59",
   "metadata": {},
   "outputs": [],
   "source": [
    "# IBMQ.save_account('2b4e7060a6af7dc53674c08638bcc88d180f88e83619f91265d2a840de13ad0d051df3aab20769bbc8f59527770b52841e78cdf62d56825f442b43c34ff56b32')"
   ]
  },
  {
   "cell_type": "code",
   "execution_count": 5,
   "id": "8f0d9ee7-1731-4e1b-b03b-dad89e837a68",
   "metadata": {},
   "outputs": [
    {
     "data": {
      "text/plain": [
       "<AccountProvider for IBMQ(hub='ibm-q', group='open', project='main')>"
      ]
     },
     "execution_count": 5,
     "metadata": {},
     "output_type": "execute_result"
    }
   ],
   "source": [
    "IBMQ.load_account()"
   ]
  },
  {
   "cell_type": "code",
   "execution_count": 6,
   "id": "9f1fe1c9-3f19-454c-b8a0-7445392fbfb7",
   "metadata": {},
   "outputs": [
    {
     "data": {
      "text/html": [
       "<pre style=\"word-wrap: normal;white-space: pre;background: #fff0;line-height: 1.1;font-family: &quot;Courier New&quot;,Courier,monospace\">     ┌───┐     ┌─┐\n",
       "q_0: ┤ H ├─────┤M├\n",
       "     ├───┤┌───┐└╥┘\n",
       "q_1: ┤ X ├┤ Z ├─╫─\n",
       "     └───┘└───┘ ║ \n",
       "c: 2/═══════════╩═\n",
       "                1 </pre>"
      ],
      "text/plain": [
       "     ┌───┐     ┌─┐\n",
       "q_0: ┤ H ├─────┤M├\n",
       "     ├───┤┌───┐└╥┘\n",
       "q_1: ┤ X ├┤ Z ├─╫─\n",
       "     └───┘└───┘ ║ \n",
       "c: 2/═══════════╩═\n",
       "                1 "
      ]
     },
     "execution_count": 6,
     "metadata": {},
     "output_type": "execute_result"
    }
   ],
   "source": [
    "circ = QuantumCircuit(2,2)\n",
    "circ.h(0)\n",
    "circ.x(1)\n",
    "circ.z(1)\n",
    "circ.measure(0,1),(0,1)\n",
    "circ.draw()"
   ]
  },
  {
   "cell_type": "code",
   "execution_count": 7,
   "id": "05a29ebd-d982-4946-94fb-62ffe4f49f9e",
   "metadata": {},
   "outputs": [
    {
     "data": {
      "image/png": "[encoded data removed]",
      "text/plain": [
       "<Figure size 267.052x204.68 with 1 Axes>"
      ]
     },
     "execution_count": 7,
     "metadata": {},
     "output_type": "execute_result"
    }
   ],
   "source": [
    "circ.draw(output='mpl')"
   ]
  },
  {
   "cell_type": "code",
   "execution_count": 8,
   "id": "7e3fe0ba-512d-471a-983e-db2f4a2b004f",
   "metadata": {},
   "outputs": [
    {
     "data": {
      "text/plain": [
       "{'00': 498, '10': 526}"
      ]
     },
     "execution_count": 8,
     "metadata": {},
     "output_type": "execute_result"
    }
   ],
   "source": [
    "backend = Aer.get_backend(\"qasm_simulator\")\n",
    "job = execute(circ, backend, shots = 1024)\n",
    "result = job.result()\n",
    "count = result.get_counts(circ)\n",
    "count"
   ]
  },
  {
   "cell_type": "code",
   "execution_count": null,
   "id": "e8ec7cd6-fc77-455a-8507-68ec7a3cc7a5",
   "metadata": {},
   "outputs": [],
   "source": []
  }
 ],
 "metadata": {
  "kernelspec": {
   "display_name": "Python 3",
   "language": "python",
   "name": "python3"
  },
  "language_info": {
   "codemirror_mode": {
    "name": "ipython",
    "version": 3
   },
   "file_extension": ".py",
   "mimetype": "text/x-python",
   "name": "python",
   "nbconvert_exporter": "python",
   "pygments_lexer": "ipython3",
   "version": "3.9.4"
  }
 },
 "nbformat": 4,
 "nbformat_minor": 5
}
